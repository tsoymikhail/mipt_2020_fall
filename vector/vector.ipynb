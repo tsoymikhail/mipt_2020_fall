{
  "nbformat": 4,
  "nbformat_minor": 0,
  "metadata": {
    "colab": {
      "name": "vector.ipynb",
      "provenance": [],
      "collapsed_sections": [],
      "authorship_tag": "ABX9TyNjYO+/oWaTaz+xBC4ckxba",
      "include_colab_link": true
    },
    "kernelspec": {
      "name": "python3",
      "display_name": "Python 3"
    }
  },
  "cells": [
    {
      "cell_type": "markdown",
      "metadata": {
        "id": "view-in-github",
        "colab_type": "text"
      },
      "source": [
        "<a href=\"https://colab.research.google.com/github/tsoymikhail/b0680512/blob/main/vector.ipynb\" target=\"_parent\"><img src=\"https://colab.research.google.com/assets/colab-badge.svg\" alt=\"Open In Colab\"/></a>"
      ]
    },
    {
      "cell_type": "code",
      "metadata": {
        "id": "DTRYVm9lK_7a"
      },
      "source": [
        "import math\r\n",
        "import functools\r\n",
        "import time"
      ],
      "execution_count": null,
      "outputs": []
    },
    {
      "cell_type": "code",
      "metadata": {
        "id": "ulQiWV9g1PTZ"
      },
      "source": [
        "def timer(func):\r\n",
        "    \"\"\"Print runtime of the decorated function\"\"\"\r\n",
        "    @functools.wraps(func)\r\n",
        "    def wrapper_timer(*args, **kwargs):\r\n",
        "        print(\"Run method: {:s}\".format(func.__name__))\r\n",
        "        start_time = time.perf_counter()\r\n",
        "        value = func(*args, **kwargs)\r\n",
        "        end_time = time.perf_counter()\r\n",
        "        run_time = end_time - start_time\r\n",
        "        print(\"Finished {:s} in {:f} secs\".format(func.__name__, run_time))\r\n",
        "        return value\r\n",
        "    return wrapper_timer"
      ],
      "execution_count": null,
      "outputs": []
    },
    {
      "cell_type": "code",
      "metadata": {
        "id": "HCCEN3K8LFnb"
      },
      "source": [
        "class Vector(object):\r\n",
        "    def __init__(self, *args):\r\n",
        "        \"\"\" Create a vector, example: v = Vector(1,2,3) \"\"\"\r\n",
        "        if len(args)==0: \r\n",
        "            self.values = (0,0,0)\r\n",
        "        else: \r\n",
        "            self.values = args\r\n",
        "    \r\n",
        "    def abs(self):\r\n",
        "        \"\"\" Returns the norm (length, magnitude) of the vector \"\"\"\r\n",
        "        return math.sqrt(sum( x*x for x in self ))\r\n",
        "   \r\n",
        "    @timer\r\n",
        "    def normalize(self):\r\n",
        "        \"\"\" Returns a normalized unit vector \"\"\"\r\n",
        "        norm = self.abs()\r\n",
        "        normed = tuple( float('{:.3f}'.format(x / norm)) for x in self )\r\n",
        "        return self.__class__(*normed)\r\n",
        "    \r\n",
        "    def inner(self, vector):\r\n",
        "        \"\"\" Returns the dot product (inner product) of self and another vector\r\n",
        "        \"\"\"\r\n",
        "        if not isinstance(vector, Vector):\r\n",
        "            raise ValueError('The dot product requires another vector')\r\n",
        "        return sum(a * b for a, b in zip(self, vector))\r\n",
        "    \r\n",
        "    def __mul__(self, other):\r\n",
        "        \"\"\" Returns the dot product of self and other if multiplied\r\n",
        "            by another Vector.  If multiplied by an int or float,\r\n",
        "            multiplies each component by other.\r\n",
        "        \"\"\"\r\n",
        "        if isinstance(other, Vector):\r\n",
        "            return self.inner(other)\r\n",
        "        elif isinstance(other, (int, float)):\r\n",
        "            product = tuple( a * other for a in self )\r\n",
        "            return self.__class__(*product)\r\n",
        "        else:\r\n",
        "            raise ValueError(\"Multiplication with type {} not supported\".format(type(other)))\r\n",
        "\r\n",
        "    def __rmul__(self, other):\r\n",
        "        \"\"\" Called if 4 * self for instance \"\"\"\r\n",
        "        return self.__mul__(other)            \r\n",
        "    \r\n",
        "    def __imul__(self, other):\r\n",
        "        if isinstance(other, Vector):\r\n",
        "            self = self.inner(other)\r\n",
        "        elif isinstance(other, (int, float)):\r\n",
        "            product = tuple( a * other for a in self )\r\n",
        "            self = self.__class__(*product)\r\n",
        "        else:\r\n",
        "            raise ValueError(\"Multiplication with type {} not supported\".format(type(other)))\r\n",
        "        return self\r\n",
        "            \r\n",
        "    def __add__(self, other):\r\n",
        "        \"\"\" Returns the vector addition of self and other \"\"\"\r\n",
        "        if isinstance(other, Vector):\r\n",
        "            added = tuple( a + b for a, b in zip(self, other) )\r\n",
        "        else:\r\n",
        "            raise ValueError(\"Addition with type {} not supported\".format(type(other)))\r\n",
        "        \r\n",
        "        return self.__class__(*added)\r\n",
        "\r\n",
        "    def __iadd__(self, other):\r\n",
        "        \"\"\" Returns the vector addition of self and other \"\"\"\r\n",
        "        if isinstance(other, Vector):\r\n",
        "            added = tuple( a + b for a, b in zip(self, other) )\r\n",
        "        else:\r\n",
        "            raise ValueError(\"Addition with type {} not supported\".format(type(other)))\r\n",
        "        \r\n",
        "        self = self.__class__(*added)\r\n",
        "        return self\r\n",
        "    \r\n",
        "    def __sub__(self, other):\r\n",
        "        \"\"\" Returns the vector difference of self and other \"\"\"\r\n",
        "        if isinstance(other, Vector):\r\n",
        "            subbed = tuple( a - b for a, b in zip(self, other) )\r\n",
        "        else:\r\n",
        "            raise ValueError(\"Subtraction with type {} not supported\".format(type(other)))\r\n",
        "        \r\n",
        "        return self.__class__(*subbed)\r\n",
        "    \r\n",
        "    def __isub__(self, other):\r\n",
        "        if isinstance(other, Vector):\r\n",
        "            subbed = tuple( a - b for a, b in zip(self, other) )\r\n",
        "        else:\r\n",
        "            raise ValueError(\"Subtraction with type {} not supported\".format(type(other)))\r\n",
        "        \r\n",
        "        self = self.__class__(*subbed)\r\n",
        "        \r\n",
        "        return self\r\n",
        "\r\n",
        "    def __matmul__(self, other):\r\n",
        "        \"\"\" Returns cross product of self and other\"\"\"\r\n",
        "        if isinstance(other, Vector):\r\n",
        "            x1, y1, z1 = self.values\r\n",
        "            x2, y2, z2 = other.values\r\n",
        "            s = [y1 * z2 - z1 * y2, z1 * x2 - x1 * z2, x1 * y2 - x2 *y1]\r\n",
        "            cross_product = tuple(s)\r\n",
        "        else:\r\n",
        "            raise ValueError(\"Cross with type {} not supported\".format(type(other)))\r\n",
        "\r\n",
        "        return self.__class__(*cross_product)     \r\n",
        "    \r\n",
        "    def __imatmul__(self, other):\r\n",
        "        if isinstance(other, Vector):\r\n",
        "            x1, y1, z1 = self.values\r\n",
        "            x2, y2, z2 = other.values\r\n",
        "            s = [y1 * z2 - z1 * y2, z1 * x2 - x1 * z2, x1 * y2 - x2 *y1]\r\n",
        "            cross_product = tuple(s)\r\n",
        "        else:\r\n",
        "            raise ValueError(\"Cross with type {} not supported\".format(type(other)))\r\n",
        "\r\n",
        "        self = self.__class__(*cross_product)\r\n",
        "        \r\n",
        "        return self\r\n",
        "\r\n",
        "    def __neg__(self):\r\n",
        "        negative = tuple(-x for x in self.values)\r\n",
        "\r\n",
        "        return self.__class__(*negative)\r\n",
        "\r\n",
        "    def __iter__(self):\r\n",
        "        return self.values.__iter__()\r\n",
        "    \r\n",
        "    \r\n",
        "    def __getitem__(self, key):\r\n",
        "        return self.values[key]\r\n",
        "        \r\n",
        "    def __repr__(self):\r\n",
        "        return str(self.values)\r\n",
        "\r\n",
        "    def __len__(self):\r\n",
        "        return len(self.values)\r\n",
        "\r\n",
        "    def __eq__(self, other):\r\n",
        "        \"\"\" Checks if the vectors are equal \"\"\"\r\n",
        "        if isinstance(other, Vector):\r\n",
        "            while True:\r\n",
        "                for a, b in zip(self, other):\r\n",
        "                   if a != b: \r\n",
        "                      return False\r\n",
        "                return True      \r\n",
        "        else:\r\n",
        "            raise ValueError(\"Equality with type {} not supported\".format(type(other)))\r\n",
        "        \r\n",
        "        "
      ],
      "execution_count": null,
      "outputs": []
    },
    {
      "cell_type": "code",
      "metadata": {
        "colab": {
          "base_uri": "https://localhost:8080/"
        },
        "id": "0SJT-dSALM77",
        "outputId": "7e52b20c-0dea-41dd-ab59-6cdd1e496f97"
      },
      "source": [
        "a = Vector(1, 2, 3)\r\n",
        "b = Vector(1, 2, 3)\r\n",
        "print(a == b)"
      ],
      "execution_count": null,
      "outputs": [
        {
          "output_type": "stream",
          "text": [
            "True\n"
          ],
          "name": "stdout"
        }
      ]
    },
    {
      "cell_type": "code",
      "metadata": {
        "colab": {
          "base_uri": "https://localhost:8080/"
        },
        "id": "0c0DSHIwYMw7",
        "outputId": "cd747ccf-117c-4a1a-97ee-3e4af249fcd2"
      },
      "source": [
        "n  = a.normalize()"
      ],
      "execution_count": null,
      "outputs": [
        {
          "output_type": "stream",
          "text": [
            "Run method: normalize\n",
            "Finished normalize in 0.000033 secs\n"
          ],
          "name": "stdout"
        }
      ]
    },
    {
      "cell_type": "code",
      "metadata": {
        "colab": {
          "base_uri": "https://localhost:8080/"
        },
        "id": "2_RyVT7eyPfc",
        "outputId": "dfc94c5d-72dc-471a-8488-9152524669a5"
      },
      "source": [
        "print(n)"
      ],
      "execution_count": null,
      "outputs": [
        {
          "output_type": "stream",
          "text": [
            "(0.267, 0.535, 0.802)\n"
          ],
          "name": "stdout"
        }
      ]
    },
    {
      "cell_type": "code",
      "metadata": {
        "id": "EO3zQF6u8l81"
      },
      "source": [
        "b = Vector(3, 4, 5)"
      ],
      "execution_count": null,
      "outputs": []
    },
    {
      "cell_type": "code",
      "metadata": {
        "colab": {
          "base_uri": "https://localhost:8080/"
        },
        "id": "oSnIuAeN-aVX",
        "outputId": "4b38a2a8-9816-4043-ee70-8d9995559c52"
      },
      "source": [
        "print(a * b)"
      ],
      "execution_count": null,
      "outputs": [
        {
          "output_type": "stream",
          "text": [
            "26\n"
          ],
          "name": "stdout"
        }
      ]
    },
    {
      "cell_type": "code",
      "metadata": {
        "colab": {
          "base_uri": "https://localhost:8080/"
        },
        "id": "k7x5Kkrp-f3n",
        "outputId": "a748543b-2586-4e86-e20f-9960717366a7"
      },
      "source": [
        "print(a)"
      ],
      "execution_count": null,
      "outputs": [
        {
          "output_type": "stream",
          "text": [
            "(1, 2, 3)\n"
          ],
          "name": "stdout"
        }
      ]
    },
    {
      "cell_type": "code",
      "metadata": {
        "colab": {
          "base_uri": "https://localhost:8080/"
        },
        "id": "fQDJw7uZSdUQ",
        "outputId": "ebe6d7e2-8950-446f-e96c-12ae160e2e04"
      },
      "source": [
        "a += a\r\n",
        "print(a)\r\n",
        "\r\n",
        "a -= Vector(1, 2, 3)\r\n",
        "print(a)\r\n",
        "print(a*3)\r\n",
        "print(3*a)"
      ],
      "execution_count": null,
      "outputs": [
        {
          "output_type": "stream",
          "text": [
            "(2, 4, 6)\n",
            "(1, 2, 3)\n",
            "(3, 6, 9)\n",
            "(3, 6, 9)\n"
          ],
          "name": "stdout"
        }
      ]
    },
    {
      "cell_type": "code",
      "metadata": {
        "colab": {
          "base_uri": "https://localhost:8080/"
        },
        "id": "ujq2ViF1SfN5",
        "outputId": "6189a1d4-5341-4b02-d08e-9b83770fe7b6"
      },
      "source": [
        "e1 = Vector(1, 0, 0)\r\n",
        "e2 = Vector(0, 1, 0)\r\n",
        "\r\n",
        "print(e1@e1)\r\n",
        "print(e1@e2)\r\n",
        "print(e2@e1)\r\n",
        "\r\n",
        "e1 @= e2\r\n",
        "print(e1)"
      ],
      "execution_count": null,
      "outputs": [
        {
          "output_type": "stream",
          "text": [
            "(0, 0, 0)\n",
            "(0, 0, 1)\n",
            "(0, 0, -1)\n",
            "(0, 0, 1)\n"
          ],
          "name": "stdout"
        }
      ]
    },
    {
      "cell_type": "code",
      "metadata": {
        "colab": {
          "base_uri": "https://localhost:8080/"
        },
        "id": "ufSBuLDhS8oD",
        "outputId": "2ca11aa6-4319-4533-c88b-905ee9d72c16"
      },
      "source": [
        "for _ in range(len(a)):\r\n",
        "    print(a[_])"
      ],
      "execution_count": null,
      "outputs": [
        {
          "output_type": "stream",
          "text": [
            "1\n",
            "2\n",
            "3\n"
          ],
          "name": "stdout"
        }
      ]
    }
  ]
}
